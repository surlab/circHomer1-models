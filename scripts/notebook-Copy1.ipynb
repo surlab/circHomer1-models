{
 "cells": [
  {
   "cell_type": "markdown",
   "id": "bb076a2a",
   "metadata": {
    "colab_type": "text",
    "id": "view-in-github",
    "lines_to_next_cell": 0
   },
   "source": [
    "<a href=\"https://colab.research.google.com/github/GreggHeller1/gregg-circ-homer-models/blob/main/scripts/notebook.ipynb\" target=\"_parent\"><img src=\"https://colab.research.google.com/assets/colab-badge.svg\" alt=\"Open In Colab\"/></a>"
   ]
  },
  {
   "cell_type": "code",
   "execution_count": 1,
   "id": "71ee021b",
   "metadata": {
    "id": "71ee021b",
    "lines_to_next_cell": 0
   },
   "outputs": [
    {
     "name": "stdout",
     "output_type": "stream",
     "text": [
      "False\n"
     ]
    }
   ],
   "source": [
    "#settings\n",
    "%load_ext autoreload\n",
    "%autoreload 2\n",
    "try:\n",
    "  import google.colab\n",
    "  in_colab = True\n",
    "except:\n",
    "  in_colab = False\n",
    "print(in_colab)"
   ]
  },
  {
   "cell_type": "code",
   "execution_count": 2,
   "id": "4e02e926",
   "metadata": {
    "colab": {
     "base_uri": "https://localhost:8080/"
    },
    "id": "4e02e926",
    "lines_to_next_cell": 0,
    "outputId": "84475a29-508b-4d96-adf5-e85665e994d2"
   },
   "outputs": [],
   "source": [
    "#installs (for colab only, run this once)\n",
    "if in_colab:\n",
    "    ! git clone https://github.com/GreggHeller1/gregg-circ-homer-models.git"
   ]
  },
  {
   "cell_type": "code",
   "execution_count": 4,
   "id": "5e9731ca",
   "metadata": {
    "id": "5e9731ca",
    "lines_to_next_cell": 0
   },
   "outputs": [
    {
     "ename": "ModuleNotFoundError",
     "evalue": "No module named 'seaborn'",
     "output_type": "error",
     "traceback": [
      "\u001b[1;31m---------------------------------------------------------------------------\u001b[0m",
      "\u001b[1;31mModuleNotFoundError\u001b[0m                       Traceback (most recent call last)",
      "Cell \u001b[1;32mIn[4], line 7\u001b[0m\n\u001b[0;32m      4\u001b[0m     get_ipython()\u001b[38;5;241m.\u001b[39mrun_line_magic(\u001b[38;5;124m'\u001b[39m\u001b[38;5;124mcd\u001b[39m\u001b[38;5;124m'\u001b[39m, \u001b[38;5;124m'\u001b[39m\u001b[38;5;124m/content/gregg-circ-homer-models\u001b[39m\u001b[38;5;124m'\u001b[39m)\n\u001b[0;32m      6\u001b[0m \u001b[38;5;28;01mfrom\u001b[39;00m \u001b[38;5;21;01msrc\u001b[39;00m \u001b[38;5;28;01mimport\u001b[39;00m data_io \u001b[38;5;28;01mas\u001b[39;00m io\n\u001b[1;32m----> 7\u001b[0m \u001b[38;5;28;01mfrom\u001b[39;00m \u001b[38;5;21;01msrc\u001b[39;00m \u001b[38;5;28;01mimport\u001b[39;00m plotting \u001b[38;5;28;01mas\u001b[39;00m plot\n\u001b[0;32m      8\u001b[0m \u001b[38;5;28;01mfrom\u001b[39;00m \u001b[38;5;21;01msrc\u001b[39;00m \u001b[38;5;28;01mimport\u001b[39;00m computation \u001b[38;5;28;01mas\u001b[39;00m comp\n\u001b[0;32m      9\u001b[0m \u001b[38;5;28;01mfrom\u001b[39;00m \u001b[38;5;21;01msrc\u001b[39;00m \u001b[38;5;28;01mimport\u001b[39;00m helper_functions \u001b[38;5;28;01mas\u001b[39;00m hf\n",
      "File \u001b[1;32mc:\\users\\gregg\\dropbox (mit)\\gregg_code\\gregg-circ-homer-models\\src\\plotting.py:4\u001b[0m\n\u001b[0;32m      2\u001b[0m \u001b[38;5;28;01mimport\u001b[39;00m \u001b[38;5;21;01mnumpy\u001b[39;00m \u001b[38;5;28;01mas\u001b[39;00m \u001b[38;5;21;01mnp\u001b[39;00m\n\u001b[0;32m      3\u001b[0m \u001b[38;5;28;01mimport\u001b[39;00m \u001b[38;5;21;01mos\u001b[39;00m\n\u001b[1;32m----> 4\u001b[0m \u001b[38;5;28;01mimport\u001b[39;00m \u001b[38;5;21;01mseaborn\u001b[39;00m \u001b[38;5;28;01mas\u001b[39;00m \u001b[38;5;21;01msns\u001b[39;00m\n\u001b[0;32m      5\u001b[0m \u001b[38;5;28;01mfrom\u001b[39;00m \u001b[38;5;21;01msrc\u001b[39;00m \u001b[38;5;28;01mimport\u001b[39;00m config \u001b[38;5;28;01mas\u001b[39;00m cfg\n\u001b[0;32m      6\u001b[0m \u001b[38;5;28;01mfrom\u001b[39;00m \u001b[38;5;21;01msrc\u001b[39;00m \u001b[38;5;28;01mimport\u001b[39;00m computation \u001b[38;5;28;01mas\u001b[39;00m comp\n",
      "\u001b[1;31mModuleNotFoundError\u001b[0m: No module named 'seaborn'"
     ]
    }
   ],
   "source": [
    "#local imports\n",
    "#cwd if in colab for imports to work\n",
    "if in_colab:\n",
    "    %cd /content/gregg-circ-homer-models\n",
    "    \n",
    "from src import data_io as io\n",
    "from src import plotting as plot\n",
    "from src import computation as comp\n",
    "from src import helper_functions as hf"
   ]
  },
  {
   "cell_type": "code",
   "execution_count": 9,
   "id": "db51ef2e",
   "metadata": {
    "id": "db51ef2e",
    "lines_to_next_cell": 2
   },
   "outputs": [],
   "source": [
    "#imports\n",
    "import pandas as pd\n",
    "import os\n",
    "\n",
    "#import xarray as xr\n",
    "#import numpy as np\n",
    "#import ipdb\n",
    "#from matplotlib import pyplot as plt\n",
    "#from PIL import Image #this needs to be after matplotlib??\n",
    "#from scipy.stats import stats   \n",
    "import os\n",
    "#import cProfile\n",
    "#cProfile.run('out = comp.function(inputs)') #replace \"function\" and \"inputs\" to profile the function you want to optimize\n"
   ]
  },
  {
   "cell_type": "code",
   "execution_count": 10,
   "id": "a06b6e4a",
   "metadata": {
    "colab": {
     "base_uri": "https://localhost:8080/"
    },
    "id": "a06b6e4a",
    "lines_to_next_cell": 0,
    "outputId": "989c69e2-c8c4-43e0-9ba6-7a36f66be4c3"
   },
   "outputs": [
    {
     "name": "stdout",
     "output_type": "stream",
     "text": [
      "demo_data\\test.txt\n",
      "C:\\Users\\Gregg\\Dropbox (MIT)\\gregg_code\\gregg-circ-homer-models\\scripts\n",
      "False\n"
     ]
    }
   ],
   "source": [
    "#cwd if in colab for file loading to work\n",
    "if in_colab:\n",
    "    %cd /content/gregg-circ-homer-models/scripts\n",
    "    \n",
    "test_path = os.path.join('demo_data', 'test.txt')\n",
    "print(test_path)\n",
    "print(os.getcwd())\n",
    "print(os.path.exists(test_path))\n"
   ]
  },
  {
   "cell_type": "code",
   "execution_count": null,
   "id": "d6e20d04-b230-4124-abd8-e5e364e78723",
   "metadata": {
    "lines_to_next_cell": 2
   },
   "outputs": [],
   "source": [
    "#define paths Test that your data exists here\n",
    "data_path = \"/Users/Gregg/code/gregg-circ-homer-models/scripts/demo_data/ASC26_cell_3_soma.mat\"\n",
    "print(os.path.exists(soma_path))"
   ]
  },
  {
   "cell_type": "code",
   "execution_count": 7,
   "id": "b3586a50",
   "metadata": {
    "colab": {
     "base_uri": "https://localhost:8080/"
    },
    "id": "b3586a50",
    "lines_to_next_cell": 2,
    "outputId": "56f159c6-3dbc-4b37-d217-083fb5d2e792"
   },
   "outputs": [],
   "source": [
    "#data inputs\n"
   ]
  },
  {
   "cell_type": "code",
   "execution_count": 11,
   "id": "82a5927b",
   "metadata": {
    "id": "82a5927b"
   },
   "outputs": [],
   "source": [
    "#data manipulation"
   ]
  },
  {
   "cell_type": "code",
   "execution_count": null,
   "id": "b5ef4ede-eb4b-4923-82cf-5019bda7b43b",
   "metadata": {},
   "outputs": [],
   "source": [
    "#Save data"
   ]
  },
  {
   "cell_type": "code",
   "execution_count": null,
   "id": "5f50b106-282b-46a6-916c-1ad49874b02e",
   "metadata": {
    "lines_to_next_cell": 0
   },
   "outputs": [],
   "source": [
    "#Load data to make plots"
   ]
  },
  {
   "cell_type": "code",
   "execution_count": null,
   "id": "dbd88ca0-6f19-4518-95ff-ac233dfd0724",
   "metadata": {
    "lines_to_next_cell": 2
   },
   "outputs": [],
   "source": []
  }
 ],
 "metadata": {
  "colab": {
   "include_colab_link": true,
   "name": "notebook.ipynb",
   "provenance": []
  },
  "jupytext": {
   "formats": "ipynb,py,md"
  },
  "kernelspec": {
   "display_name": "Python 3 (ipykernel)",
   "language": "python",
   "name": "python3"
  },
  "language_info": {
   "codemirror_mode": {
    "name": "ipython",
    "version": 3
   },
   "file_extension": ".py",
   "mimetype": "text/x-python",
   "name": "python",
   "nbconvert_exporter": "python",
   "pygments_lexer": "ipython3",
   "version": "3.8.19"
  }
 },
 "nbformat": 4,
 "nbformat_minor": 5
}
